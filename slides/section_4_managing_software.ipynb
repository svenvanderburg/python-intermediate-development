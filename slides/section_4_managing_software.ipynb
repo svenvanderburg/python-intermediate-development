{
 "cells": [
  {
   "cell_type": "markdown",
   "id": "8f4f88a1",
   "metadata": {
    "slideshow": {
     "slide_type": "slide"
    }
   },
   "source": [
    "# Section 4: Improving and Managing Software Over its Lifetime\n",
    "\n",
    "</br>\n",
    "</br>\n",
    "<center><img src=\"../fig/section4-overview.png\" width=\"70%\"></center>"
   ]
  },
  {
   "cell_type": "markdown",
   "id": "bde031f2",
   "metadata": {
    "slideshow": {
     "slide_type": "notes"
    }
   },
   "source": [
    "- up until this point, the course has been primarily focussed on technical practices, tools, and infrastructure, and primarily from the perspective of a single developer/researcher, albeit within a team environment\n",
    "- in this section, we will broaden this out and start looking at the management side of software projects, which necessarily makes it much more focussed on the team environment and broader considerations about how our code will be used and how we involve others contributors in the improvement of our code\n",
    "\n",
    "In this section we will:\n",
    "\n",
    "- Look at how to **prepare our software for release**, looking at what we actually mean by software reusability, the importance of good documentation, as well as what to consider when choosing an open source licence.\n",
    "- Explore ways for us to **track issues with our software** registered by ourselves and external users, and how we should employ a critical mindset when reviewing software for reuse.\n",
    "- Examine how we can manage the **improvement of our software through feedback** using agile management techniques. We'll employ effort estimation of development tasks as a foundational tool for prioritising future team work, and use the MoSCoW approach and software development sprints to manage improvement. As we will see, it is very difficult to prioritise work effectively without knowing both its relative importance to others as well as the effort required to deliver those work items."
   ]
  },
  {
   "cell_type": "markdown",
   "id": "4f2b3ea2",
   "metadata": {
    "slideshow": {
     "slide_type": "subslide"
    }
   },
   "source": [
    "## Preparing Software for Reuse\n",
    "\n",
    "\n",
    "### Breakout: Start from the Top\n",
    "\n",
    "Start from the top of this episode page and go to the end."
   ]
  },
  {
   "cell_type": "raw",
   "id": "14d644e0",
   "metadata": {
    "slideshow": {
     "slide_type": "notes"
    }
   },
   "source": [
    "- Split into breakout rooms for about 50 minutes\n",
    "- A few notes to preface\n",
    "  - If you have been using codimd for the shared document, then learners will have already been exposed to Markdown, so this section won't contain much new for them\n",
    "  - For writing documentation, this is another great link that can be added to the shared document: https://documentation.divio.com/\n",
    "  - For licensing software, make some notes in the shared document about the policy of your institution"
   ]
  },
  {
   "cell_type": "markdown",
   "id": "ac46b323",
   "metadata": {
    "slideshow": {
     "slide_type": "slide"
    }
   },
   "source": [
    "## ☕ 5 Minute Break ☕"
   ]
  },
  {
   "cell_type": "markdown",
   "id": "f705abaa",
   "metadata": {
    "slideshow": {
     "slide_type": "subslide"
    }
   },
   "source": [
    "## Assessing Software for Suitability and Improvement\n",
    "\n",
    "### Breakout: Start from the Top\n",
    "\n",
    "Start reading from the top of this episode page all the way to the end. Complete exercises as you go.\n",
    "\n",
    "You will need to synchronise as a group at the **🖉 Decide on your Group’s Repository!** exercise. Please use a sticky/reaction to indicate when you have reached this exercise.\n",
    "\n",
    "For the next exercise, you will then need to wait for the other group you are assessing to fill in their repo URL."
   ]
  },
  {
   "cell_type": "markdown",
   "id": "8632012a",
   "metadata": {
    "slideshow": {
     "slide_type": "notes"
    }
   },
   "source": [
    "- Set learners into breakout rooms for 45 minutes with instructions on slide"
   ]
  },
  {
   "cell_type": "markdown",
   "id": "3357ddff",
   "metadata": {
    "slideshow": {
     "slide_type": "slide"
    }
   },
   "source": [
    "## ☕ 10 Minute Break ☕"
   ]
  },
  {
   "cell_type": "markdown",
   "id": "84e630ee",
   "metadata": {
    "slideshow": {
     "slide_type": "subslide"
    }
   },
   "source": [
    "## Improvement Through Feedback\n",
    "\n",
    "### Breakout: Start from the Top\n",
    "\n",
    "Start reading from the top of this episode page all the way to the end. Complete exercises as a group.\n",
    "\n",
    "There is a separate shared documents specific to your group linked from the original shared document. This will give your group an uncrowded space to handle the issues that another group has submitted on your repo."
   ]
  },
  {
   "cell_type": "markdown",
   "id": "1af3aa5a",
   "metadata": {
    "slideshow": {
     "slide_type": "slide"
    }
   },
   "source": [
    "## Wrap Up\n",
    "\n",
    "</br>\n",
    "</br>\n",
    "<center><img src=\"https://ukaea-rse-training.github.io/python-intermediate-development/fig/course-concept-map.png\" width=\"70%\"></center>"
   ]
  },
  {
   "cell_type": "markdown",
   "id": "91d1b9a1",
   "metadata": {
    "slideshow": {
     "slide_type": "slide"
    }
   },
   "source": [
    "## 🕓 End of Section 4 🕓\n",
    "\n",
    "Please fill out the end-of-section survey!"
   ]
  }
 ],
 "metadata": {
  "celltoolbar": "Slideshow",
  "kernelspec": {
   "display_name": "Python 3 (ipykernel)",
   "language": "python",
   "name": "python3"
  },
  "language_info": {
   "codemirror_mode": {
    "name": "ipython",
    "version": 3
   },
   "file_extension": ".py",
   "mimetype": "text/x-python",
   "name": "python",
   "nbconvert_exporter": "python",
   "pygments_lexer": "ipython3",
   "version": "3.8.10"
  },
  "rise": {
   "theme": "solarized"
  }
 },
 "nbformat": 4,
 "nbformat_minor": 5
}
