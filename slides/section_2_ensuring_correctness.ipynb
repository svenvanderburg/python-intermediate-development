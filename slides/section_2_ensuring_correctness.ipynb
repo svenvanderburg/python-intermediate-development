{
 "cells": [
  {
   "cell_type": "markdown",
   "id": "8f4f88a1",
   "metadata": {
    "slideshow": {
     "slide_type": "slide"
    }
   },
   "source": [
    "# Section 2: Ensuring Correctness of Software at Scale\n",
    "\n",
    "</br>\n",
    "</br>\n",
    "<center><img src=\"../fig/section2-overview.png\" width=\"70%\"></center>"
   ]
  },
  {
   "cell_type": "markdown",
   "id": "bde031f2",
   "metadata": {
    "slideshow": {
     "slide_type": "notes"
    }
   },
   "source": [
    "- Probably the most important thing to take away from this course"
   ]
  },
  {
   "cell_type": "markdown",
   "id": "615283f5",
   "metadata": {
    "slideshow": {
     "slide_type": "slide"
    }
   },
   "source": [
    "## Automatically Testing your Software\n",
    "\n",
    "- Big questions: how can we be sure the code we have written is correct, produces accurate results, and is of good quality?"
   ]
  },
  {
   "cell_type": "markdown",
   "id": "134bb0de",
   "metadata": {
    "slideshow": {
     "slide_type": "fragment"
    }
   },
   "source": [
    "> **testing:** The process of operating a system or component under specified conditions, observing or recording the results, and making an evaluation of some aspect of the system or component\n",
    "> — IEEE Standard Glossary of Software Engineering"
   ]
  },
  {
   "cell_type": "markdown",
   "id": "ba469861",
   "metadata": {
    "slideshow": {
     "slide_type": "notes"
    }
   },
   "source": [
    "- Big questions: how can we be sure the code we have written is correct, produces accurate results, and is of good quality?\n",
    "  - This is the domain of Verification and Validation (V&V), in which testing plays an important role\n",
    "  \n",
    "> **testing:** The process of operating a system or component under specified conditions, observing or recording the results, and making an evaluation of some aspect of the system or component\n",
    "> — IEEE Standard Glossary of Software Engineering\n",
    "- i.e. inferring the _behaviour_ of our code through artifacts and making sure that matches what we expect or is required"
   ]
  },
  {
   "cell_type": "markdown",
   "id": "7af208f9",
   "metadata": {
    "slideshow": {
     "slide_type": "subslide"
    }
   },
   "source": [
    "### Types of Testing\n",
    "\n",
    "- Types of testing\n",
    "  - Manual testing\n",
    "  - Automated testing\n",
    "    - Unit tests\n",
    "    - Funcitonal or integration tests\n",
    "    - Regression tests"
   ]
  },
  {
   "cell_type": "markdown",
   "id": "4fd4d5c1",
   "metadata": {
    "slideshow": {
     "slide_type": "notes"
    }
   },
   "source": [
    "- Types of (dynamic) testing\n",
    "  - Manual testing: an important part of exploratory research\n",
    "  - Automated testing: codify the expected behaviour of our software such that verification can happen repeatedly without user inspection\n",
    "    - Unit tests: tests for small function units of our code (i.e functions, class methods, class objects)\n",
    "    - Funcitonal or integration tests: work at a higher level, and test functional paths through your code, e.g. given some specific inputs, a set of interconnected functions across a number of modules (or the entire code) produce the expected result.\n",
    "    - Regression tests: compare the current output of your code (usually an end-to-end result) to make sure it matches previous output that you don't want to change\n",
    "- there was a question that came in about drift in regression tests, and the short answer with how to deal with this is first determining whether the output you are tracking is actually an invariant (or something close to an invariant)\n",
    "  - If not, then you will necessarily need to allow for relative proximity, but then you might question whether this is a good long term output to base your regression test on.\n",
    "  - In our area and science broadly, invariants tend to be some observable or experimental physical results, so if you test isn't based on that, you are probably going to have a tough time."
   ]
  },
  {
   "cell_type": "markdown",
   "id": "c540e804",
   "metadata": {
    "slideshow": {
     "slide_type": "subslide"
    }
   },
   "source": [
    "### Breakout Exercise: 🖉 Set Up a New Feature Branch for Writing Tests\n",
    "\n",
    "Start from this section heading and go to the end of the page."
   ]
  },
  {
   "cell_type": "markdown",
   "id": "79ce7384",
   "metadata": {
    "slideshow": {
     "slide_type": "notes"
    }
   },
   "source": [
    "- Breakout rooms from the page section \"Set Up a New Feature Branch for Writing Tests\" (~45 minutes) until the end of the page\n",
    "- status check\n",
    "- comments from content\n",
    "  - FRUIT doesn't look very active, so I would recommend pFUnit for Fortran instead."
   ]
  },
  {
   "cell_type": "markdown",
   "id": "aebf4fd8",
   "metadata": {
    "slideshow": {
     "slide_type": "slide"
    }
   },
   "source": [
    "## ☕ 5 Minute Break ☕"
   ]
  },
  {
   "cell_type": "markdown",
   "id": "4105706b",
   "metadata": {
    "slideshow": {
     "slide_type": "slide"
    }
   },
   "source": [
    "## Scaling Up Unit Testing\n",
    "\n",
    "1. Parameterise our tests to reduce repetition\n",
    "2. Check the test coverage of our code"
   ]
  },
  {
   "cell_type": "markdown",
   "id": "8d3966c8",
   "metadata": {
    "slideshow": {
     "slide_type": "notes"
    }
   },
   "source": [
    "1. Parameterise our tests\n",
    "  - from the previous example, you may have noticed that if you want to run a test with the same logic but different input data, you will need to create a new test function that is mostly the same\n",
    "  - there is a convenient way to avoid this in pytest called _parameterisation_, allowing a single test function to run through a variety of test input cases\n",
    "  - very powerful to improve the coverage of the parameter space that you code might be dealing with\n",
    "2. Check the test coverage\n",
    "  - on a related note, it is important to see how much of our code is \"covered\" (i.e. verified) by our tests so that we can get at least a relative idea of how the quality of our code is faring overtime, and where we should focus testing efforts"
   ]
  },
  {
   "cell_type": "markdown",
   "id": "921d7af7",
   "metadata": {
    "slideshow": {
     "slide_type": "subslide"
    }
   },
   "source": [
    "### Breakout Exercise: 🖉 Parameterising Our Unit Tests\n",
    "\n",
    "Go through the whole content of this page starting from this section heading. In the last 5-7 minutes, please think about the question:\n",
    "\n",
    "_Where can and might the input data and corresponding expected results come from for your code?_\n",
    "\n",
    "Record answers in the shared document. Feel free to discuss with your peers."
   ]
  },
  {
   "cell_type": "markdown",
   "id": "c0c83590",
   "metadata": {
    "slideshow": {
     "slide_type": "notes"
    }
   },
   "source": [
    "- send learners into breakout rooms for ~ 20 minutes\n",
    "  - before sending, make sure they are clear on the discussion question\n",
    "  - status check\n",
    "- check answers to question in shared document and briefly summarise\n",
    "- comments about the limits of testing:\n",
    "  - there are some good points there about getting value from testing\n",
    "  - what most researchers think: \n",
    "    - \"Peer review of my paper will be the test\"\n",
    "    - \"Looking at a graph is enough\"\n",
    "    - \"I don't have time to implement a clunky testing framework\"\n",
    "  - it hints that there is a spectrum between throwaway code that doesn't need to be tested and library code used by hundreds in a community that requires extensive testing suites with more than just unit tests\n",
    "  - where your particular code lies is a tricky question to answer sometimes, but a good rule of thumb is that if there is a chance that someone else will be using it, then you should give some thought to tests\n",
    "    - some further thoughts here: https://bielsnohr.github.io/2021/11/29/iccs-part2-and-testing.html\n",
    "  - testing has a demonstrably positive impact upon the design on your code\n",
    "  - it must of course also be acknowledged that testing is not the answer to everything, and that it can't substitute for good manual and acceptance testing"
   ]
  },
  {
   "cell_type": "markdown",
   "id": "492ce011",
   "metadata": {
    "slideshow": {
     "slide_type": "slide"
    }
   },
   "source": [
    "## ☕ 5 Minute Break ☕"
   ]
  },
  {
   "cell_type": "markdown",
   "id": "5f305784",
   "metadata": {
    "slideshow": {
     "slide_type": "slide"
    }
   },
   "source": [
    "# Continuous Integration for Automated Testing\n",
    "\n",
    "</br>\n",
    "</br>\n",
    "\n",
    "_How do we know our tests—and code in general—will work on other people's machines?_"
   ]
  },
  {
   "cell_type": "markdown",
   "id": "4c277018",
   "metadata": {
    "slideshow": {
     "slide_type": "notes"
    }
   },
   "source": [
    "- How do we know our tests—and code in general—will work on other people's machines?\n",
    "  - the main answer these days is to use Continuous Integration.\n",
    "- What is Continuous Integration?\n",
    "  - very loosely, it is an automated system that is triggered upon certain actions to your repository (like pushing or merging) and performs quality checks on your code (and nearly anything else you like too!)\n",
    "  - the key part is that this all happens on a remote \"virtual\" machine that is set up and torn down each time the tasks need to be performed, thus ensuring there are no idiosyncracies that arise because of our particular development environment\n",
    "  - in our case, we will be setting up CI to run our tests on the remote service provided by GitHub called GitHub Actions"
   ]
  },
  {
   "cell_type": "markdown",
   "id": "6ee6feb6",
   "metadata": {
    "slideshow": {
     "slide_type": "subslide"
    }
   },
   "source": [
    "### Breakout Exercise: 🖉 Continuous Integration with GitHub Actions\n",
    "\n",
    "Follow along from this section heading to the bottom of the page."
   ]
  },
  {
   "cell_type": "markdown",
   "id": "2a28d6f1",
   "metadata": {
    "slideshow": {
     "slide_type": "notes"
    }
   },
   "source": [
    "- breakout rooms (for ~ 45 mins) from this section heading to the bottom of the page\n",
    "- status check\n",
    "- comments\n",
    "  - GitLab has very similar functionality and there are plenty of resources on our internal GitLab about this (add link?)\n",
    "  - you might notice that there is a slight discrepancy between the version numbers of Python that are used in the matrix\n",
    "    - don't worry about this too much, and just extend the Python version for the testing matrix to cover 3.9 as well"
   ]
  },
  {
   "cell_type": "markdown",
   "id": "54ee2a67",
   "metadata": {
    "slideshow": {
     "slide_type": "slide"
    }
   },
   "source": [
    "## ☕ 15 Minute Break ☕"
   ]
  },
  {
   "cell_type": "markdown",
   "id": "24896838",
   "metadata": {
    "slideshow": {
     "slide_type": "slide"
    }
   },
   "source": [
    "# Diagnosing Issues and Improving Robustness"
   ]
  },
  {
   "cell_type": "markdown",
   "id": "8f3840f7",
   "metadata": {
    "slideshow": {
     "slide_type": "notes"
    }
   },
   "source": [
    "- already while you have been creating tests, you might have encountered errors while you are trying to write those tests, and it is not immediately obvious what is going on\n",
    "  - debugging offers a powerful technique for investigating in these situations, and more generally\n",
    "- there will also be some content about defensive programming"
   ]
  },
  {
   "cell_type": "markdown",
   "id": "8c568e3c",
   "metadata": {
    "slideshow": {
     "slide_type": "subslide"
    }
   },
   "source": [
    "### Breakout Exercise: 🖉 Setting the Scene (for Debugging)\n",
    "\n",
    "Follow along from this section heading to the bottom of the page."
   ]
  },
  {
   "cell_type": "markdown",
   "id": "bd823b59",
   "metadata": {
    "slideshow": {
     "slide_type": "notes"
    }
   },
   "source": [
    "- split learners into breakout rooms (~50 mins although likely less, so take a status check early) starting from this section heading and going to the end of the page\n",
    "  - if learners are using different editors, then encourage them to try and replicate the techique of debugging that is explained here\n",
    "- status check"
   ]
  },
  {
   "cell_type": "markdown",
   "id": "91d1b9a1",
   "metadata": {
    "slideshow": {
     "slide_type": "slide"
    }
   },
   "source": [
    "## 🕓 End of Section 2 🕓\n",
    "\n",
    "Please fill out the end-of-section survey!"
   ]
  }
 ],
 "metadata": {
  "celltoolbar": "Slideshow",
  "kernelspec": {
   "display_name": "Python 3 (ipykernel)",
   "language": "python",
   "name": "python3"
  },
  "language_info": {
   "codemirror_mode": {
    "name": "ipython",
    "version": 3
   },
   "file_extension": ".py",
   "mimetype": "text/x-python",
   "name": "python",
   "nbconvert_exporter": "python",
   "pygments_lexer": "ipython3",
   "version": "3.8.10"
  },
  "rise": {
   "theme": "solarized"
  }
 },
 "nbformat": 4,
 "nbformat_minor": 5
}
